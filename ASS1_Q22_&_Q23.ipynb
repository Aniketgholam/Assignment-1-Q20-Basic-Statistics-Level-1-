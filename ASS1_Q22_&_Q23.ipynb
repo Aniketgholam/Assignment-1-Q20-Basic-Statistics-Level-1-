{
  "nbformat": 4,
  "nbformat_minor": 0,
  "metadata": {
    "colab": {
      "name": "ASS1 Q22 & Q23",
      "provenance": [],
      "authorship_tag": "ABX9TyNMxqLxSyJ875+By9SxvxBx",
      "include_colab_link": true
    },
    "kernelspec": {
      "name": "python3",
      "display_name": "Python 3"
    },
    "language_info": {
      "name": "python"
    }
  },
  "cells": [
    {
      "cell_type": "markdown",
      "metadata": {
        "id": "view-in-github",
        "colab_type": "text"
      },
      "source": [
        "<a href=\"https://colab.research.google.com/github/Aniketgholam/Assignment-1-Q20-Basic-Statistics-Level-1-/blob/Code-Edit/ASS1_Q22_%26_Q23.ipynb\" target=\"_parent\"><img src=\"https://colab.research.google.com/assets/colab-badge.svg\" alt=\"Open In Colab\"/></a>"
      ]
    },
    {
      "cell_type": "code",
      "metadata": {
        "id": "TwUChjlwM-Td"
      },
      "source": [
        "from scipy import stats\n",
        "from scipy.stats import norm\n"
      ],
      "execution_count": 1,
      "outputs": []
    },
    {
      "cell_type": "code",
      "metadata": {
        "colab": {
          "base_uri": "https://localhost:8080/"
        },
        "id": "b0rF6YTINAgZ",
        "outputId": "b117f7d3-9319-48a5-94b8-619fbc5ea53c"
      },
      "source": [
        "stats.norm.ppf(0.6)"
      ],
      "execution_count": 4,
      "outputs": [
        {
          "output_type": "execute_result",
          "data": {
            "text/plain": [
              "0.2533471031357997"
            ]
          },
          "metadata": {},
          "execution_count": 4
        }
      ]
    },
    {
      "cell_type": "code",
      "metadata": {
        "colab": {
          "base_uri": "https://localhost:8080/"
        },
        "id": "epOCgRUaNBu1",
        "outputId": "13ff0440-2c15-4763-f540-ccd041dd73a6"
      },
      "source": [
        "stats.t.ppf (0.975, 24)"
      ],
      "execution_count": 6,
      "outputs": [
        {
          "output_type": "execute_result",
          "data": {
            "text/plain": [
              "2.0638985616280205"
            ]
          },
          "metadata": {},
          "execution_count": 6
        }
      ]
    },
    {
      "cell_type": "code",
      "metadata": {
        "colab": {
          "base_uri": "https://localhost:8080/"
        },
        "id": "NOU6enwBNqS4",
        "outputId": "1266c974-2aef-4179-d6b0-6a376bb0b05c"
      },
      "source": [
        "stats.t.ppf (0.98, 24)"
      ],
      "execution_count": 8,
      "outputs": [
        {
          "output_type": "execute_result",
          "data": {
            "text/plain": [
              "2.1715446760080677"
            ]
          },
          "metadata": {},
          "execution_count": 8
        }
      ]
    },
    {
      "cell_type": "code",
      "metadata": {
        "colab": {
          "base_uri": "https://localhost:8080/"
        },
        "id": "hjELHLowN1SK",
        "outputId": "ebb20978-5970-4366-8426-5a33971c2349"
      },
      "source": [
        "stats.t.ppf(0.995,24)"
      ],
      "execution_count": 9,
      "outputs": [
        {
          "output_type": "execute_result",
          "data": {
            "text/plain": [
              "2.796939504772804"
            ]
          },
          "metadata": {},
          "execution_count": 9
        }
      ]
    },
    {
      "cell_type": "code",
      "metadata": {
        "id": "94iGVxz-OKvD"
      },
      "source": [
        ""
      ],
      "execution_count": null,
      "outputs": []
    }
  ]
}